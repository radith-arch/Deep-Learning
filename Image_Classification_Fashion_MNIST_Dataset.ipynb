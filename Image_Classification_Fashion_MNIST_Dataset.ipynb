{
  "nbformat": 4,
  "nbformat_minor": 0,
  "metadata": {
    "colab": {
      "name": "Image Classification-Fashion-MNIST Dataset.ipynb",
      "provenance": [],
      "collapsed_sections": [
        "nAhnwLTnj08L"
      ]
    },
    "kernelspec": {
      "name": "python3",
      "display_name": "Python 3"
    },
    "accelerator": "GPU"
  },
  "cells": [
    {
      "cell_type": "markdown",
      "metadata": {
        "id": "FiaLqvullD0Y"
      },
      "source": [
        "# No. 1"
      ]
    },
    {
      "cell_type": "code",
      "metadata": {
        "id": "OdFn4fhFCTB3"
      },
      "source": [
        "from tensorflow.keras.datasets import fashion_mnist\n",
        "import matplotlib.pyplot as plt\n",
        "import pandas as pd"
      ],
      "execution_count": null,
      "outputs": []
    },
    {
      "cell_type": "code",
      "metadata": {
        "id": "PuLbtPpEDLVb",
        "outputId": "983f7026-7ac6-4fd7-af70-24e45fd27202",
        "colab": {
          "base_uri": "https://localhost:8080/",
          "height": 316
        }
      },
      "source": [
        "(feature_train, label_train), (feature_test, label_test) = fashion_mnist.load_data()\n",
        "\n",
        "print(\"Train\", feature_train.shape, label_train.shape)\n",
        "print(\"Test\", feature_test.shape, label_test.shape)\n",
        "\n",
        "plt.imshow(feature_train[100], cmap=plt.get_cmap('gray'))"
      ],
      "execution_count": null,
      "outputs": [
        {
          "output_type": "stream",
          "text": [
            "Train (60000, 28, 28) (60000,)\n",
            "Test (10000, 28, 28) (10000,)\n"
          ],
          "name": "stdout"
        },
        {
          "output_type": "execute_result",
          "data": {
            "text/plain": [
              "<matplotlib.image.AxesImage at 0x7efc24481240>"
            ]
          },
          "metadata": {
            "tags": []
          },
          "execution_count": 54
        },
        {
          "output_type": "display_data",
          "data": {
            "image/png": "[encoded data removed]",
            "text/plain": [
              "<Figure size 432x288 with 1 Axes>"
            ]
          },
          "metadata": {
            "tags": [],
            "needs_background": "light"
          }
        }
      ]
    },
    {
      "cell_type": "markdown",
      "metadata": {
        "id": "agvMupe5D0Rc"
      },
      "source": [
        "Feature Engineering"
      ]
    },
    {
      "cell_type": "code",
      "metadata": {
        "id": "ptrWgo0KD3E5"
      },
      "source": [
        "feature_train = feature_train.reshape((feature_train.shape[0], 28, 28, 1))\n",
        "feature_test = feature_test.reshape((feature_test.shape[0], 28, 28, 1))"
      ],
      "execution_count": null,
      "outputs": []
    },
    {
      "cell_type": "code",
      "metadata": {
        "id": "Mbp0aZBUEMSY",
        "outputId": "61b3fc3c-befc-4439-8943-afd2d1a751a5",
        "colab": {
          "base_uri": "https://localhost:8080/",
          "height": 51
        }
      },
      "source": [
        "print(\"feature_train\",feature_train.shape)\n",
        "print(\"feature_test\",feature_test.shape)"
      ],
      "execution_count": null,
      "outputs": [
        {
          "output_type": "stream",
          "text": [
            "feature_train (60000, 28, 28, 1)\n",
            "feature_test (10000, 28, 28, 1)\n"
          ],
          "name": "stdout"
        }
      ]
    },
    {
      "cell_type": "code",
      "metadata": {
        "id": "PXA0Jq4xEaYq"
      },
      "source": [
        "from tensorflow.keras.utils import to_categorical\n",
        "\n",
        "label_train = to_categorical(label_train)\n",
        "label_test = to_categorical(label_test)\n",
        "\n",
        "# print(\"label train\")\n",
        "# print(label_train)\n",
        "# print(\"\\n label test\")\n",
        "# print(label_test)"
      ],
      "execution_count": null,
      "outputs": []
    },
    {
      "cell_type": "code",
      "metadata": {
        "id": "YaktWABYE4vA"
      },
      "source": [
        "feature_train = feature_train.astype('float32')\n",
        "feature_test = feature_test.astype('float32')\n",
        "\n",
        "feature_train = feature_train / 255.0\n",
        "feature_test = feature_test / 255.0"
      ],
      "execution_count": null,
      "outputs": []
    },
    {
      "cell_type": "code",
      "metadata": {
        "id": "EYiXXeUgFK5I"
      },
      "source": [
        "# feature_train"
      ],
      "execution_count": null,
      "outputs": []
    },
    {
      "cell_type": "code",
      "metadata": {
        "id": "AS0mnBIKFNCB"
      },
      "source": [
        "# feature_test"
      ],
      "execution_count": null,
      "outputs": []
    },
    {
      "cell_type": "code",
      "metadata": {
        "id": "NDXZ0OE_FQEZ"
      },
      "source": [
        "from tensorflow.keras.models import Sequential\n",
        "from tensorflow.keras.layers import Conv2D\n",
        "from tensorflow.keras.layers import MaxPooling2D\n",
        "from tensorflow.keras.layers import Dense\n",
        "from tensorflow.keras.layers import Flatten\n",
        "from tensorflow.keras.optimizers import SGD\n",
        "from tensorflow.keras.layers import BatchNormalization"
      ],
      "execution_count": null,
      "outputs": []
    },
    {
      "cell_type": "markdown",
      "metadata": {
        "id": "Y-Si1PnjFw5r"
      },
      "source": [
        "## Multilayer Perceptron (Neural Network)\n",
        "\n",
        "\n"
      ]
    },
    {
      "cell_type": "code",
      "metadata": {
        "id": "ZTGUjfgvFwn5",
        "outputId": "0eb1ac66-195e-4064-944b-b984a89026a5",
        "colab": {
          "base_uri": "https://localhost:8080/",
          "height": 595
        }
      },
      "source": [
        "model = Sequential()\n",
        "\n",
        "model.add(Flatten(input_shape=(28, 28, 1)))\n",
        "model.add(Dense(128, activation='relu', kernel_initializer='he_uniform'))\n",
        "model.add(Dense(10, activation='softmax'))\n",
        "\n",
        "opt = SGD(lr=0.01, momentum=0.9)\n",
        "\n",
        "model.compile(optimizer=opt, loss='categorical_crossentropy', metrics=['accuracy'])\n",
        "\n",
        "model.summary()\n",
        "\n",
        "history = model.fit(feature_train, label_train, batch_size=32, validation_data=(feature_test, label_test), epochs=10)\n"
      ],
      "execution_count": null,
      "outputs": [
        {
          "output_type": "stream",
          "text": [
            "Model: \"sequential_18\"\n",
            "_________________________________________________________________\n",
            "Layer (type)                 Output Shape              Param #   \n",
            "=================================================================\n",
            "flatten_10 (Flatten)         (None, 784)               0         \n",
            "_________________________________________________________________\n",
            "dense_34 (Dense)             (None, 128)               100480    \n",
            "_________________________________________________________________\n",
            "dense_35 (Dense)             (None, 10)                1290      \n",
            "=================================================================\n",
            "Total params: 101,770\n",
            "Trainable params: 101,770\n",
            "Non-trainable params: 0\n",
            "_________________________________________________________________\n",
            "Epoch 1/10\n",
            "1875/1875 [==============================] - 4s 2ms/step - loss: 0.5276 - accuracy: 0.8142 - val_loss: 0.4480 - val_accuracy: 0.8393\n",
            "Epoch 2/10\n",
            "1875/1875 [==============================] - 4s 2ms/step - loss: 0.3998 - accuracy: 0.8573 - val_loss: 0.4087 - val_accuracy: 0.8525\n",
            "Epoch 3/10\n",
            "1875/1875 [==============================] - 4s 2ms/step - loss: 0.3593 - accuracy: 0.8706 - val_loss: 0.3834 - val_accuracy: 0.8612\n",
            "Epoch 4/10\n",
            "1875/1875 [==============================] - 4s 2ms/step - loss: 0.3351 - accuracy: 0.8776 - val_loss: 0.3708 - val_accuracy: 0.8694\n",
            "Epoch 5/10\n",
            "1875/1875 [==============================] - 4s 2ms/step - loss: 0.3177 - accuracy: 0.8847 - val_loss: 0.3922 - val_accuracy: 0.8597\n",
            "Epoch 6/10\n",
            "1875/1875 [==============================] - 4s 2ms/step - loss: 0.3045 - accuracy: 0.8876 - val_loss: 0.3573 - val_accuracy: 0.8735\n",
            "Epoch 7/10\n",
            "1875/1875 [==============================] - 4s 2ms/step - loss: 0.2915 - accuracy: 0.8927 - val_loss: 0.3683 - val_accuracy: 0.8710\n",
            "Epoch 8/10\n",
            "1875/1875 [==============================] - 4s 2ms/step - loss: 0.2824 - accuracy: 0.8961 - val_loss: 0.3674 - val_accuracy: 0.8679\n",
            "Epoch 9/10\n",
            "1875/1875 [==============================] - 4s 2ms/step - loss: 0.2731 - accuracy: 0.8989 - val_loss: 0.3429 - val_accuracy: 0.8754\n",
            "Epoch 10/10\n",
            "1875/1875 [==============================] - 4s 2ms/step - loss: 0.2658 - accuracy: 0.9024 - val_loss: 0.3589 - val_accuracy: 0.8736\n"
          ],
          "name": "stdout"
        }
      ]
    },
    {
      "cell_type": "code",
      "metadata": {
        "id": "rGHgxsR2clEB"
      },
      "source": [
        "def plot_loss(history):\n",
        "  plt.plot(history.history['loss'], label='loss')\n",
        "  plt.plot(history.history['val_loss'], label='val_loss')\n",
        "  plt.ylim([0, 10])\n",
        "  plt.xlabel('Epoch')\n",
        "  plt.ylabel('Loss')\n",
        "  plt.legend()\n",
        "  plt.grid(True)"
      ],
      "execution_count": null,
      "outputs": []
    },
    {
      "cell_type": "code",
      "metadata": {
        "id": "irb_zCUwdO9f",
        "outputId": "9bd21bc5-c632-4a28-e962-78b207cb1147",
        "colab": {
          "base_uri": "https://localhost:8080/",
          "height": 359
        }
      },
      "source": [
        "history_dataframe = pd.DataFrame(history.history)\n",
        "history_dataframe['epoch'] = history.epoch\n",
        "history_dataframe"
      ],
      "execution_count": null,
      "outputs": [
        {
          "output_type": "execute_result",
          "data": {
            "text/html": [
              "<div>\n",
              "<style scoped>\n",
              "    .dataframe tbody tr th:only-of-type {\n",
              "        vertical-align: middle;\n",
              "    }\n",
              "\n",
              "    .dataframe tbody tr th {\n",
              "        vertical-align: top;\n",
              "    }\n",
              "\n",
              "    .dataframe thead th {\n",
              "        text-align: right;\n",
              "    }\n",
              "</style>\n",
              "<table border=\"1\" class=\"dataframe\">\n",
              "  <thead>\n",
              "    <tr style=\"text-align: right;\">\n",
              "      <th></th>\n",
              "      <th>loss</th>\n",
              "      <th>accuracy</th>\n",
              "      <th>val_loss</th>\n",
              "      <th>val_accuracy</th>\n",
              "      <th>epoch</th>\n",
              "    </tr>\n",
              "  </thead>\n",
              "  <tbody>\n",
              "    <tr>\n",
              "      <th>0</th>\n",
              "      <td>0.527638</td>\n",
              "      <td>0.814183</td>\n",
              "      <td>0.447979</td>\n",
              "      <td>0.8393</td>\n",
              "      <td>0</td>\n",
              "    </tr>\n",
              "    <tr>\n",
              "      <th>1</th>\n",
              "      <td>0.399755</td>\n",
              "      <td>0.857267</td>\n",
              "      <td>0.408701</td>\n",
              "      <td>0.8525</td>\n",
              "      <td>1</td>\n",
              "    </tr>\n",
              "    <tr>\n",
              "      <th>2</th>\n",
              "      <td>0.359350</td>\n",
              "      <td>0.870567</td>\n",
              "      <td>0.383367</td>\n",
              "      <td>0.8612</td>\n",
              "      <td>2</td>\n",
              "    </tr>\n",
              "    <tr>\n",
              "      <th>3</th>\n",
              "      <td>0.335082</td>\n",
              "      <td>0.877617</td>\n",
              "      <td>0.370774</td>\n",
              "      <td>0.8694</td>\n",
              "      <td>3</td>\n",
              "    </tr>\n",
              "    <tr>\n",
              "      <th>4</th>\n",
              "      <td>0.317672</td>\n",
              "      <td>0.884700</td>\n",
              "      <td>0.392181</td>\n",
              "      <td>0.8597</td>\n",
              "      <td>4</td>\n",
              "    </tr>\n",
              "    <tr>\n",
              "      <th>5</th>\n",
              "      <td>0.304491</td>\n",
              "      <td>0.887567</td>\n",
              "      <td>0.357297</td>\n",
              "      <td>0.8735</td>\n",
              "      <td>5</td>\n",
              "    </tr>\n",
              "    <tr>\n",
              "      <th>6</th>\n",
              "      <td>0.291464</td>\n",
              "      <td>0.892667</td>\n",
              "      <td>0.368253</td>\n",
              "      <td>0.8710</td>\n",
              "      <td>6</td>\n",
              "    </tr>\n",
              "    <tr>\n",
              "      <th>7</th>\n",
              "      <td>0.282440</td>\n",
              "      <td>0.896067</td>\n",
              "      <td>0.367417</td>\n",
              "      <td>0.8679</td>\n",
              "      <td>7</td>\n",
              "    </tr>\n",
              "    <tr>\n",
              "      <th>8</th>\n",
              "      <td>0.273104</td>\n",
              "      <td>0.898900</td>\n",
              "      <td>0.342943</td>\n",
              "      <td>0.8754</td>\n",
              "      <td>8</td>\n",
              "    </tr>\n",
              "    <tr>\n",
              "      <th>9</th>\n",
              "      <td>0.265770</td>\n",
              "      <td>0.902400</td>\n",
              "      <td>0.358875</td>\n",
              "      <td>0.8736</td>\n",
              "      <td>9</td>\n",
              "    </tr>\n",
              "  </tbody>\n",
              "</table>\n",
              "</div>"
            ],
            "text/plain": [
              "       loss  accuracy  val_loss  val_accuracy  epoch\n",
              "0  0.527638  0.814183  0.447979        0.8393      0\n",
              "1  0.399755  0.857267  0.408701        0.8525      1\n",
              "2  0.359350  0.870567  0.383367        0.8612      2\n",
              "3  0.335082  0.877617  0.370774        0.8694      3\n",
              "4  0.317672  0.884700  0.392181        0.8597      4\n",
              "5  0.304491  0.887567  0.357297        0.8735      5\n",
              "6  0.291464  0.892667  0.368253        0.8710      6\n",
              "7  0.282440  0.896067  0.367417        0.8679      7\n",
              "8  0.273104  0.898900  0.342943        0.8754      8\n",
              "9  0.265770  0.902400  0.358875        0.8736      9"
            ]
          },
          "metadata": {
            "tags": []
          },
          "execution_count": 64
        }
      ]
    },
    {
      "cell_type": "code",
      "metadata": {
        "id": "sdnXLEFJd8oR",
        "outputId": "19a85e3a-e0af-4abb-c842-302fb8497e70",
        "colab": {
          "base_uri": "https://localhost:8080/",
          "height": 283
        }
      },
      "source": [
        "plot_loss(history)"
      ],
      "execution_count": null,
      "outputs": [
        {
          "output_type": "display_data",
          "data": {
            "image/png": "[encoded data removed]",
            "text/plain": [
              "<Figure size 432x288 with 1 Axes>"
            ]
          },
          "metadata": {
            "tags": [],
            "needs_background": "light"
          }
        }
      ]
    },
    {
      "cell_type": "code",
      "metadata": {
        "id": "vB8aSXTreLpJ",
        "outputId": "4fbbfcff-aa3e-457d-a539-f615a6be45c3",
        "colab": {
          "base_uri": "https://localhost:8080/",
          "height": 68
        }
      },
      "source": [
        "loss, accuracy = model.evaluate(feature_test, label_test, verbose=2)\n",
        "\n",
        "print(\"Test accuracy:\", accuracy)\n",
        "print(\"Test loss\", loss)"
      ],
      "execution_count": null,
      "outputs": [
        {
          "output_type": "stream",
          "text": [
            "313/313 - 1s - loss: 0.3589 - accuracy: 0.8736\n",
            "Test accuracy: 0.8736000061035156\n",
            "Test loss 0.3588749170303345\n"
          ],
          "name": "stdout"
        }
      ]
    },
    {
      "cell_type": "markdown",
      "metadata": {
        "id": "xbyYG0uvegJ5"
      },
      "source": [
        "## Convolutional Neural Network (CNN)"
      ]
    },
    {
      "cell_type": "code",
      "metadata": {
        "id": "t8pVNvMQekEL",
        "outputId": "699739e4-c88d-4943-fefd-62ec58d2c205",
        "colab": {
          "base_uri": "https://localhost:8080/",
          "height": 663
        }
      },
      "source": [
        "base_model = Sequential()\n",
        "\n",
        "base_model.add(Conv2D(32, (3, 3), activation='relu', kernel_initializer='he_uniform', input_shape=(28, 28, 1)))\n",
        "base_model.add(MaxPooling2D((2, 2)))\n",
        "\n",
        "base_model.add(Flatten())\n",
        "\n",
        "base_model.add(Dense(100, activation='relu', kernel_initializer='he_uniform'))\n",
        "base_model.add(Dense(10, activation='softmax'))\n",
        "\n",
        "opt = SGD(lr=0.01, momentum=0.09)\n",
        "\n",
        "base_model.compile(optimizer=opt, loss='categorical_crossentropy', metrics=['accuracy'])\n",
        "\n",
        "base_model.summary()\n",
        "\n",
        "history_cnn = base_model.fit(feature_train, label_train, batch_size=32, validation_data=(feature_test, label_test), epochs=10)"
      ],
      "execution_count": null,
      "outputs": [
        {
          "output_type": "stream",
          "text": [
            "Model: \"sequential_19\"\n",
            "_________________________________________________________________\n",
            "Layer (type)                 Output Shape              Param #   \n",
            "=================================================================\n",
            "conv2d_29 (Conv2D)           (None, 26, 26, 32)        320       \n",
            "_________________________________________________________________\n",
            "max_pooling2d_29 (MaxPooling (None, 13, 13, 32)        0         \n",
            "_________________________________________________________________\n",
            "flatten_11 (Flatten)         (None, 5408)              0         \n",
            "_________________________________________________________________\n",
            "dense_36 (Dense)             (None, 100)               540900    \n",
            "_________________________________________________________________\n",
            "dense_37 (Dense)             (None, 10)                1010      \n",
            "=================================================================\n",
            "Total params: 542,230\n",
            "Trainable params: 542,230\n",
            "Non-trainable params: 0\n",
            "_________________________________________________________________\n",
            "Epoch 1/10\n",
            "1875/1875 [==============================] - 5s 2ms/step - loss: 0.5318 - accuracy: 0.8146 - val_loss: 0.4225 - val_accuracy: 0.8488\n",
            "Epoch 2/10\n",
            "1875/1875 [==============================] - 4s 2ms/step - loss: 0.3855 - accuracy: 0.8642 - val_loss: 0.3843 - val_accuracy: 0.8631\n",
            "Epoch 3/10\n",
            "1875/1875 [==============================] - 4s 2ms/step - loss: 0.3427 - accuracy: 0.8791 - val_loss: 0.3483 - val_accuracy: 0.8760\n",
            "Epoch 4/10\n",
            "1875/1875 [==============================] - 4s 2ms/step - loss: 0.3155 - accuracy: 0.8875 - val_loss: 0.3293 - val_accuracy: 0.8813\n",
            "Epoch 5/10\n",
            "1875/1875 [==============================] - 4s 2ms/step - loss: 0.2958 - accuracy: 0.8936 - val_loss: 0.3215 - val_accuracy: 0.8834\n",
            "Epoch 6/10\n",
            "1875/1875 [==============================] - 5s 2ms/step - loss: 0.2791 - accuracy: 0.9002 - val_loss: 0.3112 - val_accuracy: 0.8895\n",
            "Epoch 7/10\n",
            "1875/1875 [==============================] - 5s 2ms/step - loss: 0.2650 - accuracy: 0.9047 - val_loss: 0.3164 - val_accuracy: 0.8861\n",
            "Epoch 8/10\n",
            "1875/1875 [==============================] - 5s 2ms/step - loss: 0.2534 - accuracy: 0.9093 - val_loss: 0.2921 - val_accuracy: 0.8926\n",
            "Epoch 9/10\n",
            "1875/1875 [==============================] - 4s 2ms/step - loss: 0.2420 - accuracy: 0.9128 - val_loss: 0.2947 - val_accuracy: 0.8917\n",
            "Epoch 10/10\n",
            "1875/1875 [==============================] - 5s 2ms/step - loss: 0.2313 - accuracy: 0.9164 - val_loss: 0.2884 - val_accuracy: 0.8950\n"
          ],
          "name": "stdout"
        }
      ]
    },
    {
      "cell_type": "code",
      "metadata": {
        "id": "0F1vgyM0ukhM",
        "outputId": "ab3f30f1-6627-4ed0-e7f8-4b16db81aefa",
        "colab": {
          "base_uri": "https://localhost:8080/",
          "height": 359
        }
      },
      "source": [
        "history_cnn_dataframe = pd.DataFrame(history_cnn.history)\n",
        "history_cnn_dataframe['epoch'] = history_cnn.epoch\n",
        "history_cnn_dataframe"
      ],
      "execution_count": null,
      "outputs": [
        {
          "output_type": "execute_result",
          "data": {
            "text/html": [
              "<div>\n",
              "<style scoped>\n",
              "    .dataframe tbody tr th:only-of-type {\n",
              "        vertical-align: middle;\n",
              "    }\n",
              "\n",
              "    .dataframe tbody tr th {\n",
              "        vertical-align: top;\n",
              "    }\n",
              "\n",
              "    .dataframe thead th {\n",
              "        text-align: right;\n",
              "    }\n",
              "</style>\n",
              "<table border=\"1\" class=\"dataframe\">\n",
              "  <thead>\n",
              "    <tr style=\"text-align: right;\">\n",
              "      <th></th>\n",
              "      <th>loss</th>\n",
              "      <th>accuracy</th>\n",
              "      <th>val_loss</th>\n",
              "      <th>val_accuracy</th>\n",
              "      <th>epoch</th>\n",
              "    </tr>\n",
              "  </thead>\n",
              "  <tbody>\n",
              "    <tr>\n",
              "      <th>0</th>\n",
              "      <td>0.531848</td>\n",
              "      <td>0.814633</td>\n",
              "      <td>0.422524</td>\n",
              "      <td>0.8488</td>\n",
              "      <td>0</td>\n",
              "    </tr>\n",
              "    <tr>\n",
              "      <th>1</th>\n",
              "      <td>0.385518</td>\n",
              "      <td>0.864183</td>\n",
              "      <td>0.384310</td>\n",
              "      <td>0.8631</td>\n",
              "      <td>1</td>\n",
              "    </tr>\n",
              "    <tr>\n",
              "      <th>2</th>\n",
              "      <td>0.342682</td>\n",
              "      <td>0.879100</td>\n",
              "      <td>0.348289</td>\n",
              "      <td>0.8760</td>\n",
              "      <td>2</td>\n",
              "    </tr>\n",
              "    <tr>\n",
              "      <th>3</th>\n",
              "      <td>0.315465</td>\n",
              "      <td>0.887550</td>\n",
              "      <td>0.329265</td>\n",
              "      <td>0.8813</td>\n",
              "      <td>3</td>\n",
              "    </tr>\n",
              "    <tr>\n",
              "      <th>4</th>\n",
              "      <td>0.295817</td>\n",
              "      <td>0.893600</td>\n",
              "      <td>0.321516</td>\n",
              "      <td>0.8834</td>\n",
              "      <td>4</td>\n",
              "    </tr>\n",
              "    <tr>\n",
              "      <th>5</th>\n",
              "      <td>0.279073</td>\n",
              "      <td>0.900217</td>\n",
              "      <td>0.311226</td>\n",
              "      <td>0.8895</td>\n",
              "      <td>5</td>\n",
              "    </tr>\n",
              "    <tr>\n",
              "      <th>6</th>\n",
              "      <td>0.264963</td>\n",
              "      <td>0.904683</td>\n",
              "      <td>0.316392</td>\n",
              "      <td>0.8861</td>\n",
              "      <td>6</td>\n",
              "    </tr>\n",
              "    <tr>\n",
              "      <th>7</th>\n",
              "      <td>0.253388</td>\n",
              "      <td>0.909267</td>\n",
              "      <td>0.292070</td>\n",
              "      <td>0.8926</td>\n",
              "      <td>7</td>\n",
              "    </tr>\n",
              "    <tr>\n",
              "      <th>8</th>\n",
              "      <td>0.242041</td>\n",
              "      <td>0.912783</td>\n",
              "      <td>0.294677</td>\n",
              "      <td>0.8917</td>\n",
              "      <td>8</td>\n",
              "    </tr>\n",
              "    <tr>\n",
              "      <th>9</th>\n",
              "      <td>0.231260</td>\n",
              "      <td>0.916400</td>\n",
              "      <td>0.288429</td>\n",
              "      <td>0.8950</td>\n",
              "      <td>9</td>\n",
              "    </tr>\n",
              "  </tbody>\n",
              "</table>\n",
              "</div>"
            ],
            "text/plain": [
              "       loss  accuracy  val_loss  val_accuracy  epoch\n",
              "0  0.531848  0.814633  0.422524        0.8488      0\n",
              "1  0.385518  0.864183  0.384310        0.8631      1\n",
              "2  0.342682  0.879100  0.348289        0.8760      2\n",
              "3  0.315465  0.887550  0.329265        0.8813      3\n",
              "4  0.295817  0.893600  0.321516        0.8834      4\n",
              "5  0.279073  0.900217  0.311226        0.8895      5\n",
              "6  0.264963  0.904683  0.316392        0.8861      6\n",
              "7  0.253388  0.909267  0.292070        0.8926      7\n",
              "8  0.242041  0.912783  0.294677        0.8917      8\n",
              "9  0.231260  0.916400  0.288429        0.8950      9"
            ]
          },
          "metadata": {
            "tags": []
          },
          "execution_count": 69
        }
      ]
    },
    {
      "cell_type": "code",
      "metadata": {
        "id": "he22LEqQiyjr",
        "outputId": "b69a0bfc-aa57-4491-f68e-36ee80949417",
        "colab": {
          "base_uri": "https://localhost:8080/",
          "height": 283
        }
      },
      "source": [
        "plot_loss(history_cnn)"
      ],
      "execution_count": null,
      "outputs": [
        {
          "output_type": "display_data",
          "data": {
            "image/png": "[encoded data removed]",
            "text/plain": [
              "<Figure size 432x288 with 1 Axes>"
            ]
          },
          "metadata": {
            "tags": [],
            "needs_background": "light"
          }
        }
      ]
    },
    {
      "cell_type": "code",
      "metadata": {
        "id": "ArNqul2Wg9LJ",
        "outputId": "269ee023-4e25-4822-cdae-b0cc6fe86256",
        "colab": {
          "base_uri": "https://localhost:8080/",
          "height": 68
        }
      },
      "source": [
        "loss, accuracy = base_model.evaluate(feature_test, label_test, verbose=2)\n",
        "\n",
        "print(\"Test accuracy:\", accuracy)\n",
        "print(\"Test loss\", loss)"
      ],
      "execution_count": null,
      "outputs": [
        {
          "output_type": "stream",
          "text": [
            "313/313 - 1s - loss: 0.2884 - accuracy: 0.8950\n",
            "Test accuracy: 0.8949999809265137\n",
            "Test loss 0.2884294092655182\n"
          ],
          "name": "stdout"
        }
      ]
    },
    {
      "cell_type": "markdown",
      "metadata": {
        "id": "XZoe6PnYxt_A"
      },
      "source": [
        "## Kesimpulan"
      ]
    },
    {
      "cell_type": "markdown",
      "metadata": {
        "id": "w-N7e05UxyWH"
      },
      "source": [
        "Arsitektur dengan hasil terbaik didapatkan dari Convolutional Neural Network (CNN) dimana pada iteration/epoch terakhir accuracy CNN lebih besar 1% dan pada validation accuracy lebih besar 2% daripada Neural Network. Hal ini karena layer CNN lebih dalam dan parameternya lebih banyak daripada Neural Network."
      ]
    },
    {
      "cell_type": "markdown",
      "metadata": {
        "id": "t9BJHd2pi6cU"
      },
      "source": [
        "# No. 2"
      ]
    },
    {
      "cell_type": "markdown",
      "metadata": {
        "id": "RVUpHJEGi5XF"
      },
      "source": [
        "## Deeper CNN - Fashion MNIST"
      ]
    },
    {
      "cell_type": "code",
      "metadata": {
        "id": "8LIN_angi5XM",
        "outputId": "f78b8302-3663-408a-e7ca-ec5f2a48b87a",
        "colab": {
          "base_uri": "https://localhost:8080/",
          "height": 731
        }
      },
      "source": [
        "model1 = Sequential()\n",
        "\n",
        "model1.add(Conv2D(32, (3, 3), activation='relu', kernel_initializer='he_uniform', input_shape=(28, 28, 1)))\n",
        "model1.add(MaxPooling2D((2, 2)))\n",
        "model1.add(Conv2D(64, (3, 3), activation='relu', kernel_initializer='he_uniform'))\n",
        "model1.add(MaxPooling2D((2, 2)))\n",
        "\n",
        "model1.add(Flatten())\n",
        "\n",
        "model1.add(Dense(100, activation='relu', kernel_initializer='he_uniform'))\n",
        "model1.add(Dense(10, activation='softmax'))\n",
        "\n",
        "opt = SGD(lr=0.01, momentum=0.09)\n",
        "\n",
        "model1.compile(optimizer=opt, loss='categorical_crossentropy', metrics=['accuracy'])\n",
        "\n",
        "model1.summary()\n",
        "\n",
        "history_cnn1 = model1.fit(feature_train, label_train, batch_size=32, validation_data=(feature_test, label_test), epochs=10)"
      ],
      "execution_count": null,
      "outputs": [
        {
          "output_type": "stream",
          "text": [
            "Model: \"sequential_20\"\n",
            "_________________________________________________________________\n",
            "Layer (type)                 Output Shape              Param #   \n",
            "=================================================================\n",
            "conv2d_30 (Conv2D)           (None, 26, 26, 32)        320       \n",
            "_________________________________________________________________\n",
            "max_pooling2d_30 (MaxPooling (None, 13, 13, 32)        0         \n",
            "_________________________________________________________________\n",
            "conv2d_31 (Conv2D)           (None, 11, 11, 64)        18496     \n",
            "_________________________________________________________________\n",
            "max_pooling2d_31 (MaxPooling (None, 5, 5, 64)          0         \n",
            "_________________________________________________________________\n",
            "flatten_12 (Flatten)         (None, 1600)              0         \n",
            "_________________________________________________________________\n",
            "dense_38 (Dense)             (None, 100)               160100    \n",
            "_________________________________________________________________\n",
            "dense_39 (Dense)             (None, 10)                1010      \n",
            "=================================================================\n",
            "Total params: 179,926\n",
            "Trainable params: 179,926\n",
            "Non-trainable params: 0\n",
            "_________________________________________________________________\n",
            "Epoch 1/10\n",
            "1875/1875 [==============================] - 5s 3ms/step - loss: 0.5969 - accuracy: 0.7813 - val_loss: 0.4730 - val_accuracy: 0.8279\n",
            "Epoch 2/10\n",
            "1875/1875 [==============================] - 5s 3ms/step - loss: 0.4152 - accuracy: 0.8500 - val_loss: 0.4139 - val_accuracy: 0.8552\n",
            "Epoch 3/10\n",
            "1875/1875 [==============================] - 5s 3ms/step - loss: 0.3667 - accuracy: 0.8692 - val_loss: 0.3690 - val_accuracy: 0.8668\n",
            "Epoch 4/10\n",
            "1875/1875 [==============================] - 5s 3ms/step - loss: 0.3361 - accuracy: 0.8793 - val_loss: 0.3647 - val_accuracy: 0.8687\n",
            "Epoch 5/10\n",
            "1875/1875 [==============================] - 5s 3ms/step - loss: 0.3154 - accuracy: 0.8865 - val_loss: 0.3664 - val_accuracy: 0.8636\n",
            "Epoch 6/10\n",
            "1875/1875 [==============================] - 5s 3ms/step - loss: 0.2974 - accuracy: 0.8920 - val_loss: 0.3214 - val_accuracy: 0.8849\n",
            "Epoch 7/10\n",
            "1875/1875 [==============================] - 5s 3ms/step - loss: 0.2836 - accuracy: 0.8973 - val_loss: 0.3356 - val_accuracy: 0.8776\n",
            "Epoch 8/10\n",
            "1875/1875 [==============================] - 5s 3ms/step - loss: 0.2713 - accuracy: 0.9010 - val_loss: 0.3180 - val_accuracy: 0.8842\n",
            "Epoch 9/10\n",
            "1875/1875 [==============================] - 5s 3ms/step - loss: 0.2613 - accuracy: 0.9055 - val_loss: 0.3147 - val_accuracy: 0.8856\n",
            "Epoch 10/10\n",
            "1875/1875 [==============================] - 5s 3ms/step - loss: 0.2529 - accuracy: 0.9073 - val_loss: 0.3214 - val_accuracy: 0.8863\n"
          ],
          "name": "stdout"
        }
      ]
    },
    {
      "cell_type": "code",
      "metadata": {
        "id": "byGOV19Fi5Xb",
        "outputId": "f6017a00-4f85-4590-8d96-9798d928cb95",
        "colab": {
          "base_uri": "https://localhost:8080/",
          "height": 68
        }
      },
      "source": [
        "loss, accuracy = model1.evaluate(feature_test, label_test, verbose=2)\n",
        "\n",
        "print(\"Test accuracy:\", accuracy)\n",
        "print(\"Test loss\", loss)"
      ],
      "execution_count": null,
      "outputs": [
        {
          "output_type": "stream",
          "text": [
            "313/313 - 1s - loss: 0.3214 - accuracy: 0.8863\n",
            "Test accuracy: 0.8863000273704529\n",
            "Test loss 0.32140907645225525\n"
          ],
          "name": "stdout"
        }
      ]
    },
    {
      "cell_type": "code",
      "metadata": {
        "id": "N9PkxYg-0i6B",
        "outputId": "b817afaa-2e13-48af-c740-b0120e69c39f",
        "colab": {
          "base_uri": "https://localhost:8080/",
          "height": 359
        }
      },
      "source": [
        "history_cnn1_dataframe = pd.DataFrame(history_cnn1.history)\n",
        "history_cnn1_dataframe['epoch'] = history_cnn1.epoch\n",
        "history_cnn1_dataframe"
      ],
      "execution_count": null,
      "outputs": [
        {
          "output_type": "execute_result",
          "data": {
            "text/html": [
              "<div>\n",
              "<style scoped>\n",
              "    .dataframe tbody tr th:only-of-type {\n",
              "        vertical-align: middle;\n",
              "    }\n",
              "\n",
              "    .dataframe tbody tr th {\n",
              "        vertical-align: top;\n",
              "    }\n",
              "\n",
              "    .dataframe thead th {\n",
              "        text-align: right;\n",
              "    }\n",
              "</style>\n",
              "<table border=\"1\" class=\"dataframe\">\n",
              "  <thead>\n",
              "    <tr style=\"text-align: right;\">\n",
              "      <th></th>\n",
              "      <th>loss</th>\n",
              "      <th>accuracy</th>\n",
              "      <th>val_loss</th>\n",
              "      <th>val_accuracy</th>\n",
              "      <th>epoch</th>\n",
              "    </tr>\n",
              "  </thead>\n",
              "  <tbody>\n",
              "    <tr>\n",
              "      <th>0</th>\n",
              "      <td>0.596877</td>\n",
              "      <td>0.781267</td>\n",
              "      <td>0.473013</td>\n",
              "      <td>0.8279</td>\n",
              "      <td>0</td>\n",
              "    </tr>\n",
              "    <tr>\n",
              "      <th>1</th>\n",
              "      <td>0.415234</td>\n",
              "      <td>0.849967</td>\n",
              "      <td>0.413914</td>\n",
              "      <td>0.8552</td>\n",
              "      <td>1</td>\n",
              "    </tr>\n",
              "    <tr>\n",
              "      <th>2</th>\n",
              "      <td>0.366667</td>\n",
              "      <td>0.869217</td>\n",
              "      <td>0.368981</td>\n",
              "      <td>0.8668</td>\n",
              "      <td>2</td>\n",
              "    </tr>\n",
              "    <tr>\n",
              "      <th>3</th>\n",
              "      <td>0.336054</td>\n",
              "      <td>0.879283</td>\n",
              "      <td>0.364672</td>\n",
              "      <td>0.8687</td>\n",
              "      <td>3</td>\n",
              "    </tr>\n",
              "    <tr>\n",
              "      <th>4</th>\n",
              "      <td>0.315403</td>\n",
              "      <td>0.886467</td>\n",
              "      <td>0.366414</td>\n",
              "      <td>0.8636</td>\n",
              "      <td>4</td>\n",
              "    </tr>\n",
              "    <tr>\n",
              "      <th>5</th>\n",
              "      <td>0.297366</td>\n",
              "      <td>0.892000</td>\n",
              "      <td>0.321369</td>\n",
              "      <td>0.8849</td>\n",
              "      <td>5</td>\n",
              "    </tr>\n",
              "    <tr>\n",
              "      <th>6</th>\n",
              "      <td>0.283650</td>\n",
              "      <td>0.897300</td>\n",
              "      <td>0.335578</td>\n",
              "      <td>0.8776</td>\n",
              "      <td>6</td>\n",
              "    </tr>\n",
              "    <tr>\n",
              "      <th>7</th>\n",
              "      <td>0.271265</td>\n",
              "      <td>0.900950</td>\n",
              "      <td>0.317987</td>\n",
              "      <td>0.8842</td>\n",
              "      <td>7</td>\n",
              "    </tr>\n",
              "    <tr>\n",
              "      <th>8</th>\n",
              "      <td>0.261298</td>\n",
              "      <td>0.905533</td>\n",
              "      <td>0.314743</td>\n",
              "      <td>0.8856</td>\n",
              "      <td>8</td>\n",
              "    </tr>\n",
              "    <tr>\n",
              "      <th>9</th>\n",
              "      <td>0.252933</td>\n",
              "      <td>0.907283</td>\n",
              "      <td>0.321409</td>\n",
              "      <td>0.8863</td>\n",
              "      <td>9</td>\n",
              "    </tr>\n",
              "  </tbody>\n",
              "</table>\n",
              "</div>"
            ],
            "text/plain": [
              "       loss  accuracy  val_loss  val_accuracy  epoch\n",
              "0  0.596877  0.781267  0.473013        0.8279      0\n",
              "1  0.415234  0.849967  0.413914        0.8552      1\n",
              "2  0.366667  0.869217  0.368981        0.8668      2\n",
              "3  0.336054  0.879283  0.364672        0.8687      3\n",
              "4  0.315403  0.886467  0.366414        0.8636      4\n",
              "5  0.297366  0.892000  0.321369        0.8849      5\n",
              "6  0.283650  0.897300  0.335578        0.8776      6\n",
              "7  0.271265  0.900950  0.317987        0.8842      7\n",
              "8  0.261298  0.905533  0.314743        0.8856      8\n",
              "9  0.252933  0.907283  0.321409        0.8863      9"
            ]
          },
          "metadata": {
            "tags": []
          },
          "execution_count": 82
        }
      ]
    },
    {
      "cell_type": "code",
      "metadata": {
        "id": "sgpt-N0pi5Xj",
        "outputId": "c0b762b9-62bf-40e6-d72c-9604f1ad193a",
        "colab": {
          "base_uri": "https://localhost:8080/",
          "height": 283
        }
      },
      "source": [
        "plot_loss(history_cnn1)"
      ],
      "execution_count": null,
      "outputs": [
        {
          "output_type": "display_data",
          "data": {
            "image/png": "[encoded data removed]",
            "text/plain": [
              "<Figure size 432x288 with 1 Axes>"
            ]
          },
          "metadata": {
            "tags": [],
            "needs_background": "light"
          }
        }
      ]
    },
    {
      "cell_type": "markdown",
      "metadata": {
        "id": "EO7M1FpyjlpR"
      },
      "source": [
        "## MNIST"
      ]
    },
    {
      "cell_type": "code",
      "metadata": {
        "id": "kK2jt9SdjlRu",
        "outputId": "47d10a5e-6fe2-407e-f5dd-131331fb9b5a",
        "colab": {
          "base_uri": "https://localhost:8080/",
          "height": 316
        }
      },
      "source": [
        "from tensorflow.keras.datasets import mnist\n",
        "\n",
        "(feature_train, label_train), (feature_test, label_test) = mnist.load_data()\n",
        "\n",
        "print(\"Train\", feature_train.shape, label_train.shape)\n",
        "print(\"Test\", feature_test.shape, label_test.shape)\n",
        "\n",
        "plt.imshow(feature_train[100], cmap=plt.get_cmap('gray'))"
      ],
      "execution_count": null,
      "outputs": [
        {
          "output_type": "stream",
          "text": [
            "Train (60000, 28, 28) (60000,)\n",
            "Test (10000, 28, 28) (10000,)\n"
          ],
          "name": "stdout"
        },
        {
          "output_type": "execute_result",
          "data": {
            "text/plain": [
              "<matplotlib.image.AxesImage at 0x7efc0ad13080>"
            ]
          },
          "metadata": {
            "tags": []
          },
          "execution_count": 74
        },
        {
          "output_type": "display_data",
          "data": {
            "image/png": "[encoded data removed]",
            "text/plain": [
              "<Figure size 432x288 with 1 Axes>"
            ]
          },
          "metadata": {
            "tags": [],
            "needs_background": "light"
          }
        }
      ]
    },
    {
      "cell_type": "markdown",
      "metadata": {
        "id": "nAhnwLTnj08L"
      },
      "source": [
        "## Feature Engineering"
      ]
    },
    {
      "cell_type": "code",
      "metadata": {
        "id": "XS8ZThdcjzQo"
      },
      "source": [
        "feature_train = feature_train.reshape((feature_train.shape[0], 28, 28, 1))\n",
        "feature_test = feature_test.reshape((feature_test.shape[0], 28, 28, 1))"
      ],
      "execution_count": null,
      "outputs": []
    },
    {
      "cell_type": "code",
      "metadata": {
        "id": "lDcRs2cRj3UX"
      },
      "source": [
        "from tensorflow.keras.utils import to_categorical\n",
        "\n",
        "label_train = to_categorical(label_train)\n",
        "label_test = to_categorical(label_test)\n",
        "\n",
        "# print(label_train)"
      ],
      "execution_count": null,
      "outputs": []
    },
    {
      "cell_type": "code",
      "metadata": {
        "id": "4CWm2wBDj7C_"
      },
      "source": [
        "feature_train = feature_train.astype('float32')\n",
        "feature_test = feature_test.astype('float32')\n",
        "\n",
        "feature_train = feature_train / 255.0\n",
        "feature_test = feature_test / 255.0"
      ],
      "execution_count": null,
      "outputs": []
    },
    {
      "cell_type": "code",
      "metadata": {
        "id": "PqzLS2OJj_gM"
      },
      "source": [
        "# feature_train"
      ],
      "execution_count": null,
      "outputs": []
    },
    {
      "cell_type": "markdown",
      "metadata": {
        "id": "-tCacjQikiYz"
      },
      "source": [
        "## Deeper CNN - MNIST"
      ]
    },
    {
      "cell_type": "code",
      "metadata": {
        "id": "TM3eLutDkIgI",
        "outputId": "d6011682-b269-4264-8912-46dabdc0e792",
        "colab": {
          "base_uri": "https://localhost:8080/",
          "height": 731
        }
      },
      "source": [
        "model2 = Sequential()\n",
        "\n",
        "model2.add(Conv2D(32, (3, 3), activation='relu', kernel_initializer='he_uniform', input_shape=(28, 28, 1)))\n",
        "model2.add(MaxPooling2D((2, 2)))\n",
        "model2.add(Conv2D(64, (3, 3), activation='relu', kernel_initializer='he_uniform'))\n",
        "model2.add(MaxPooling2D((2, 2)))\n",
        "\n",
        "model2.add(Flatten())\n",
        "\n",
        "model2.add(Dense(100, activation='relu', kernel_initializer='he_uniform'))\n",
        "model2.add(Dense(10, activation='softmax'))\n",
        "\n",
        "opt = SGD(lr=0.01, momentum=0.09)\n",
        "\n",
        "model2.compile(optimizer=opt, loss='categorical_crossentropy', metrics=['accuracy'])\n",
        "\n",
        "model2.summary()\n",
        "\n",
        "history_cnn2 = model2.fit(feature_train, label_train, batch_size=32, validation_data=(feature_test, label_test), epochs=10)"
      ],
      "execution_count": null,
      "outputs": [
        {
          "output_type": "stream",
          "text": [
            "Model: \"sequential_21\"\n",
            "_________________________________________________________________\n",
            "Layer (type)                 Output Shape              Param #   \n",
            "=================================================================\n",
            "conv2d_32 (Conv2D)           (None, 26, 26, 32)        320       \n",
            "_________________________________________________________________\n",
            "max_pooling2d_32 (MaxPooling (None, 13, 13, 32)        0         \n",
            "_________________________________________________________________\n",
            "conv2d_33 (Conv2D)           (None, 11, 11, 64)        18496     \n",
            "_________________________________________________________________\n",
            "max_pooling2d_33 (MaxPooling (None, 5, 5, 64)          0         \n",
            "_________________________________________________________________\n",
            "flatten_13 (Flatten)         (None, 1600)              0         \n",
            "_________________________________________________________________\n",
            "dense_40 (Dense)             (None, 100)               160100    \n",
            "_________________________________________________________________\n",
            "dense_41 (Dense)             (None, 10)                1010      \n",
            "=================================================================\n",
            "Total params: 179,926\n",
            "Trainable params: 179,926\n",
            "Non-trainable params: 0\n",
            "_________________________________________________________________\n",
            "Epoch 1/10\n",
            "1875/1875 [==============================] - 5s 3ms/step - loss: 0.2279 - accuracy: 0.9324 - val_loss: 0.0892 - val_accuracy: 0.9730\n",
            "Epoch 2/10\n",
            "1875/1875 [==============================] - 5s 3ms/step - loss: 0.0851 - accuracy: 0.9740 - val_loss: 0.0643 - val_accuracy: 0.9798\n",
            "Epoch 3/10\n",
            "1875/1875 [==============================] - 5s 3ms/step - loss: 0.0631 - accuracy: 0.9806 - val_loss: 0.0529 - val_accuracy: 0.9834\n",
            "Epoch 4/10\n",
            "1875/1875 [==============================] - 5s 3ms/step - loss: 0.0519 - accuracy: 0.9838 - val_loss: 0.0557 - val_accuracy: 0.9811\n",
            "Epoch 5/10\n",
            "1875/1875 [==============================] - 5s 3ms/step - loss: 0.0443 - accuracy: 0.9869 - val_loss: 0.0374 - val_accuracy: 0.9876\n",
            "Epoch 6/10\n",
            "1875/1875 [==============================] - 5s 3ms/step - loss: 0.0389 - accuracy: 0.9879 - val_loss: 0.0497 - val_accuracy: 0.9834\n",
            "Epoch 7/10\n",
            "1875/1875 [==============================] - 5s 3ms/step - loss: 0.0346 - accuracy: 0.9894 - val_loss: 0.0371 - val_accuracy: 0.9880\n",
            "Epoch 8/10\n",
            "1875/1875 [==============================] - 5s 3ms/step - loss: 0.0305 - accuracy: 0.9905 - val_loss: 0.0343 - val_accuracy: 0.9884\n",
            "Epoch 9/10\n",
            "1875/1875 [==============================] - 5s 3ms/step - loss: 0.0280 - accuracy: 0.9914 - val_loss: 0.0336 - val_accuracy: 0.9884\n",
            "Epoch 10/10\n",
            "1875/1875 [==============================] - 5s 3ms/step - loss: 0.0257 - accuracy: 0.9923 - val_loss: 0.0411 - val_accuracy: 0.9870\n"
          ],
          "name": "stdout"
        }
      ]
    },
    {
      "cell_type": "code",
      "metadata": {
        "id": "OWcO4PvikQSp",
        "outputId": "b39a1987-6bc8-4234-c002-72f1299d010a",
        "colab": {
          "base_uri": "https://localhost:8080/",
          "height": 68
        }
      },
      "source": [
        "loss, accuracy = model2.evaluate(feature_test,  label_test, verbose=2)\n",
        "\n",
        "print(\"Test accuracy:\", accuracy)\n",
        "print(\"Test loss:\", loss)"
      ],
      "execution_count": null,
      "outputs": [
        {
          "output_type": "stream",
          "text": [
            "313/313 - 1s - loss: 0.0411 - accuracy: 0.9870\n",
            "Test accuracy: 0.9869999885559082\n",
            "Test loss: 0.04109107330441475\n"
          ],
          "name": "stdout"
        }
      ]
    },
    {
      "cell_type": "code",
      "metadata": {
        "id": "yVoZPIsE0p1A",
        "outputId": "ff9b801c-e7c6-4f8e-f605-a8e2e187bdf2",
        "colab": {
          "base_uri": "https://localhost:8080/",
          "height": 359
        }
      },
      "source": [
        "history_cnn2_dataframe = pd.DataFrame(history_cnn2.history)\n",
        "history_cnn2_dataframe['epoch'] = history_cnn2.epoch\n",
        "history_cnn2_dataframe"
      ],
      "execution_count": null,
      "outputs": [
        {
          "output_type": "execute_result",
          "data": {
            "text/html": [
              "<div>\n",
              "<style scoped>\n",
              "    .dataframe tbody tr th:only-of-type {\n",
              "        vertical-align: middle;\n",
              "    }\n",
              "\n",
              "    .dataframe tbody tr th {\n",
              "        vertical-align: top;\n",
              "    }\n",
              "\n",
              "    .dataframe thead th {\n",
              "        text-align: right;\n",
              "    }\n",
              "</style>\n",
              "<table border=\"1\" class=\"dataframe\">\n",
              "  <thead>\n",
              "    <tr style=\"text-align: right;\">\n",
              "      <th></th>\n",
              "      <th>loss</th>\n",
              "      <th>accuracy</th>\n",
              "      <th>val_loss</th>\n",
              "      <th>val_accuracy</th>\n",
              "      <th>epoch</th>\n",
              "    </tr>\n",
              "  </thead>\n",
              "  <tbody>\n",
              "    <tr>\n",
              "      <th>0</th>\n",
              "      <td>0.227941</td>\n",
              "      <td>0.932417</td>\n",
              "      <td>0.089248</td>\n",
              "      <td>0.9730</td>\n",
              "      <td>0</td>\n",
              "    </tr>\n",
              "    <tr>\n",
              "      <th>1</th>\n",
              "      <td>0.085059</td>\n",
              "      <td>0.974033</td>\n",
              "      <td>0.064269</td>\n",
              "      <td>0.9798</td>\n",
              "      <td>1</td>\n",
              "    </tr>\n",
              "    <tr>\n",
              "      <th>2</th>\n",
              "      <td>0.063140</td>\n",
              "      <td>0.980567</td>\n",
              "      <td>0.052907</td>\n",
              "      <td>0.9834</td>\n",
              "      <td>2</td>\n",
              "    </tr>\n",
              "    <tr>\n",
              "      <th>3</th>\n",
              "      <td>0.051899</td>\n",
              "      <td>0.983833</td>\n",
              "      <td>0.055735</td>\n",
              "      <td>0.9811</td>\n",
              "      <td>3</td>\n",
              "    </tr>\n",
              "    <tr>\n",
              "      <th>4</th>\n",
              "      <td>0.044344</td>\n",
              "      <td>0.986883</td>\n",
              "      <td>0.037445</td>\n",
              "      <td>0.9876</td>\n",
              "      <td>4</td>\n",
              "    </tr>\n",
              "    <tr>\n",
              "      <th>5</th>\n",
              "      <td>0.038912</td>\n",
              "      <td>0.987933</td>\n",
              "      <td>0.049671</td>\n",
              "      <td>0.9834</td>\n",
              "      <td>5</td>\n",
              "    </tr>\n",
              "    <tr>\n",
              "      <th>6</th>\n",
              "      <td>0.034628</td>\n",
              "      <td>0.989367</td>\n",
              "      <td>0.037139</td>\n",
              "      <td>0.9880</td>\n",
              "      <td>6</td>\n",
              "    </tr>\n",
              "    <tr>\n",
              "      <th>7</th>\n",
              "      <td>0.030482</td>\n",
              "      <td>0.990533</td>\n",
              "      <td>0.034284</td>\n",
              "      <td>0.9884</td>\n",
              "      <td>7</td>\n",
              "    </tr>\n",
              "    <tr>\n",
              "      <th>8</th>\n",
              "      <td>0.028046</td>\n",
              "      <td>0.991400</td>\n",
              "      <td>0.033586</td>\n",
              "      <td>0.9884</td>\n",
              "      <td>8</td>\n",
              "    </tr>\n",
              "    <tr>\n",
              "      <th>9</th>\n",
              "      <td>0.025745</td>\n",
              "      <td>0.992267</td>\n",
              "      <td>0.041091</td>\n",
              "      <td>0.9870</td>\n",
              "      <td>9</td>\n",
              "    </tr>\n",
              "  </tbody>\n",
              "</table>\n",
              "</div>"
            ],
            "text/plain": [
              "       loss  accuracy  val_loss  val_accuracy  epoch\n",
              "0  0.227941  0.932417  0.089248        0.9730      0\n",
              "1  0.085059  0.974033  0.064269        0.9798      1\n",
              "2  0.063140  0.980567  0.052907        0.9834      2\n",
              "3  0.051899  0.983833  0.055735        0.9811      3\n",
              "4  0.044344  0.986883  0.037445        0.9876      4\n",
              "5  0.038912  0.987933  0.049671        0.9834      5\n",
              "6  0.034628  0.989367  0.037139        0.9880      6\n",
              "7  0.030482  0.990533  0.034284        0.9884      7\n",
              "8  0.028046  0.991400  0.033586        0.9884      8\n",
              "9  0.025745  0.992267  0.041091        0.9870      9"
            ]
          },
          "metadata": {
            "tags": []
          },
          "execution_count": 83
        }
      ]
    },
    {
      "cell_type": "code",
      "metadata": {
        "id": "9qc5iTrmkUwy",
        "outputId": "88229c8c-a26d-426a-aea3-48440c0b02ab",
        "colab": {
          "base_uri": "https://localhost:8080/",
          "height": 283
        }
      },
      "source": [
        "plot_loss(history_cnn2)"
      ],
      "execution_count": null,
      "outputs": [
        {
          "output_type": "display_data",
          "data": {
            "image/png": "[encoded data removed]",
            "text/plain": [
              "<Figure size 432x288 with 1 Axes>"
            ]
          },
          "metadata": {
            "tags": [],
            "needs_background": "light"
          }
        }
      ]
    },
    {
      "cell_type": "markdown",
      "metadata": {
        "id": "CFsSEjJx03EA"
      },
      "source": [
        "## Kesimpulan"
      ]
    },
    {
      "cell_type": "markdown",
      "metadata": {
        "id": "uk0bwF5X05cv"
      },
      "source": [
        "Berdasarkan data training dari MNIST dan Fashion MNIST dengan metode deeper CNN, hasil accuracy antara keduanya memiliki perbedaan yang jelas dimana MNIST accuracy nya lebih besar 9% dan validation accuracy lebih besar 10%. Hal ini disebabkan oleh perbedaan struktur data pada Fashion MNIST dan MNIST, dimana pixel pada Fashion MNIST lebih complex."
      ]
    }
  ]
}