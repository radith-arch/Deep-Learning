{
  "nbformat": 4,
  "nbformat_minor": 0,
  "metadata": {
    "colab": {
      "name": "Image Classification and Augmentation Cats-Dogs Dataset 01.ipynb",
      "provenance": [],
      "collapsed_sections": []
    },
    "kernelspec": {
      "name": "python3",
      "display_name": "Python 3"
    },
    "accelerator": "GPU"
  },
  "cells": [
    {
      "cell_type": "markdown",
      "metadata": {
        "id": "in5ex63a94L9"
      },
      "source": [
        "# No. 1"
      ]
    },
    {
      "cell_type": "code",
      "metadata": {
        "id": "uLNqbsFZ2tb0"
      },
      "source": [
        "zip_path = '/content/drive/My\\ Drive/Images/cats-dogs.zip'\n",
        "\n",
        "!cp {zip_path} /content/\n",
        "\n",
        "!cd /content/\n",
        "\n",
        "!unzip -q /content/cats-dogs.zip -d /content\n",
        "\n",
        "!rm /content/cats-dogs.zip"
      ],
      "execution_count": null,
      "outputs": []
    },
    {
      "cell_type": "code",
      "metadata": {
        "id": "oJ2YCnMa5El2"
      },
      "source": [
        "import numpy as np\n",
        "import os\n",
        "import matplotlib.pyplot as plt"
      ],
      "execution_count": null,
      "outputs": []
    },
    {
      "cell_type": "code",
      "metadata": {
        "id": "rxDMLy51-ZyM"
      },
      "source": [
        "def plot_loss(history):\n",
        "  plt.plot(history.history['loss'], label='loss')\n",
        "  plt.plot(history.history['val_loss'], label='val_loss')\n",
        "  plt.xlabel('Epoch')\n",
        "  plt.ylabel('Loss')\n",
        "  plt.legend()\n",
        "  plt.grid(True)"
      ],
      "execution_count": null,
      "outputs": []
    },
    {
      "cell_type": "markdown",
      "metadata": {
        "id": "pjL_gi3jfLLH"
      },
      "source": [
        "# Deeper Layer CNN Model"
      ]
    },
    {
      "cell_type": "code",
      "metadata": {
        "id": "Tj4WGuO15xOb",
        "outputId": "01b5fe0c-b13a-4f2b-9f58-52363c788c3d",
        "colab": {
          "base_uri": "https://localhost:8080/",
          "height": 459
        }
      },
      "source": [
        "from tensorflow.keras.models import Sequential\n",
        "from tensorflow.keras.layers import Conv2D, MaxPooling2D, Dense, Flatten\n",
        "from tensorflow.keras.optimizers import SGD\n",
        "\n",
        "model = Sequential()\n",
        "model.add(Conv2D(32, (3, 3), activation='relu', kernel_initializer='he_uniform', padding='same', input_shape=(200, 200, 3)))\n",
        "model.add(MaxPooling2D((2, 2)))\n",
        "model.add(Conv2D(64, (3, 3), activation='relu', kernel_initializer='he_uniform', padding='same'))\n",
        "model.add(MaxPooling2D((2, 2)))\n",
        "model.add(Conv2D(128, (3, 3), activation='relu', kernel_initializer='he_uniform', padding='same'))\n",
        "model.add(MaxPooling2D((2, 2)))\n",
        "\n",
        "model.add(Flatten())\n",
        "\n",
        "model.add(Dense(128, activation='relu', kernel_initializer='he_uniform'))\n",
        "model.add(Dense(1, activation='sigmoid'))\n",
        "\n",
        "opt = SGD(lr=0.01, momentum=0.9)\n",
        "\n",
        "model.compile(optimizer=opt, loss='binary_crossentropy', metrics=['accuracy'])\n",
        "\n",
        "model.summary()"
      ],
      "execution_count": null,
      "outputs": [
        {
          "output_type": "stream",
          "text": [
            "Model: \"sequential_4\"\n",
            "_________________________________________________________________\n",
            "Layer (type)                 Output Shape              Param #   \n",
            "=================================================================\n",
            "conv2d_12 (Conv2D)           (None, 200, 200, 32)      896       \n",
            "_________________________________________________________________\n",
            "max_pooling2d_12 (MaxPooling (None, 100, 100, 32)      0         \n",
            "_________________________________________________________________\n",
            "conv2d_13 (Conv2D)           (None, 100, 100, 64)      18496     \n",
            "_________________________________________________________________\n",
            "max_pooling2d_13 (MaxPooling (None, 50, 50, 64)        0         \n",
            "_________________________________________________________________\n",
            "conv2d_14 (Conv2D)           (None, 50, 50, 128)       73856     \n",
            "_________________________________________________________________\n",
            "max_pooling2d_14 (MaxPooling (None, 25, 25, 128)       0         \n",
            "_________________________________________________________________\n",
            "flatten_4 (Flatten)          (None, 80000)             0         \n",
            "_________________________________________________________________\n",
            "dense_8 (Dense)              (None, 128)               10240128  \n",
            "_________________________________________________________________\n",
            "dense_9 (Dense)              (None, 1)                 129       \n",
            "=================================================================\n",
            "Total params: 10,333,505\n",
            "Trainable params: 10,333,505\n",
            "Non-trainable params: 0\n",
            "_________________________________________________________________\n"
          ],
          "name": "stdout"
        }
      ]
    },
    {
      "cell_type": "code",
      "metadata": {
        "id": "Rmk1-jss7OvK",
        "outputId": "70239b37-bf85-4091-f7c7-2f6dd1b83023",
        "colab": {
          "base_uri": "https://localhost:8080/",
          "height": 51
        }
      },
      "source": [
        "dataset_dir = '/content/'\n",
        "\n",
        "from tensorflow.keras.preprocessing.image import ImageDataGenerator\n",
        "\n",
        "train_datagen = ImageDataGenerator(rescale=1.0/255.0, width_shift_range=0.1, height_shift_range=0.1, horizontal_flip=True)\n",
        "test_datagen = ImageDataGenerator(rescale=1.0/255.0)\n",
        "\n",
        "train_iterator = train_datagen.flow_from_directory(os.path.join(dataset_dir, 'train'), class_mode='binary', batch_size=128, target_size=(200, 200))\n",
        "test_iterator = test_datagen.flow_from_directory(os.path.join(dataset_dir, 'test'), class_mode='binary', batch_size=128, target_size=(200, 200))"
      ],
      "execution_count": null,
      "outputs": [
        {
          "output_type": "stream",
          "text": [
            "Found 12749 images belonging to 2 classes.\n",
            "Found 2252 images belonging to 2 classes.\n"
          ],
          "name": "stdout"
        }
      ]
    },
    {
      "cell_type": "code",
      "metadata": {
        "id": "sw3AEF_p8y0O",
        "outputId": "5c26c34a-a904-4928-c7f5-13a7ad852e36",
        "colab": {
          "base_uri": "https://localhost:8080/",
          "height": 1000
        }
      },
      "source": [
        "history_base_model = model.fit_generator(train_iterator, steps_per_epoch=len(train_iterator), validation_data=test_iterator, validation_steps=len(test_iterator), epochs=75)"
      ],
      "execution_count": null,
      "outputs": [
        {
          "output_type": "stream",
          "text": [
            "Epoch 1/75\n",
            "100/100 [==============================] - 126s 1s/step - loss: 0.7815 - accuracy: 0.5544 - val_loss: 0.6837 - val_accuracy: 0.6083\n",
            "Epoch 2/75\n",
            "100/100 [==============================] - 126s 1s/step - loss: 0.6530 - accuracy: 0.6102 - val_loss: 0.5919 - val_accuracy: 0.6896\n",
            "Epoch 3/75\n",
            "100/100 [==============================] - 125s 1s/step - loss: 0.6036 - accuracy: 0.6776 - val_loss: 0.5590 - val_accuracy: 0.7140\n",
            "Epoch 4/75\n",
            "100/100 [==============================] - 126s 1s/step - loss: 0.5594 - accuracy: 0.7145 - val_loss: 0.5127 - val_accuracy: 0.7420\n",
            "Epoch 5/75\n",
            "100/100 [==============================] - 126s 1s/step - loss: 0.5396 - accuracy: 0.7264 - val_loss: 0.5067 - val_accuracy: 0.7575\n",
            "Epoch 6/75\n",
            "100/100 [==============================] - 125s 1s/step - loss: 0.5041 - accuracy: 0.7502 - val_loss: 0.4801 - val_accuracy: 0.7655\n",
            "Epoch 7/75\n",
            "100/100 [==============================] - 125s 1s/step - loss: 0.4900 - accuracy: 0.7643 - val_loss: 0.4604 - val_accuracy: 0.7753\n",
            "Epoch 8/75\n",
            "100/100 [==============================] - 125s 1s/step - loss: 0.4755 - accuracy: 0.7775 - val_loss: 0.4395 - val_accuracy: 0.7891\n",
            "Epoch 9/75\n",
            "100/100 [==============================] - 124s 1s/step - loss: 0.4629 - accuracy: 0.7818 - val_loss: 0.4588 - val_accuracy: 0.7900\n",
            "Epoch 10/75\n",
            "100/100 [==============================] - 125s 1s/step - loss: 0.4536 - accuracy: 0.7884 - val_loss: 0.4315 - val_accuracy: 0.7855\n",
            "Epoch 11/75\n",
            "100/100 [==============================] - 125s 1s/step - loss: 0.4376 - accuracy: 0.7956 - val_loss: 0.4258 - val_accuracy: 0.8011\n",
            "Epoch 12/75\n",
            "100/100 [==============================] - 126s 1s/step - loss: 0.4313 - accuracy: 0.7986 - val_loss: 0.4453 - val_accuracy: 0.7917\n",
            "Epoch 13/75\n",
            "100/100 [==============================] - 126s 1s/step - loss: 0.4158 - accuracy: 0.8087 - val_loss: 0.4107 - val_accuracy: 0.8131\n",
            "Epoch 14/75\n",
            "100/100 [==============================] - 126s 1s/step - loss: 0.4114 - accuracy: 0.8153 - val_loss: 0.4011 - val_accuracy: 0.8282\n",
            "Epoch 15/75\n",
            "100/100 [==============================] - 125s 1s/step - loss: 0.4100 - accuracy: 0.8109 - val_loss: 0.3851 - val_accuracy: 0.8282\n",
            "Epoch 16/75\n",
            "100/100 [==============================] - 125s 1s/step - loss: 0.3923 - accuracy: 0.8201 - val_loss: 0.3736 - val_accuracy: 0.8335\n",
            "Epoch 17/75\n",
            "100/100 [==============================] - 126s 1s/step - loss: 0.3918 - accuracy: 0.8211 - val_loss: 0.3790 - val_accuracy: 0.8357\n",
            "Epoch 18/75\n",
            "100/100 [==============================] - 125s 1s/step - loss: 0.3885 - accuracy: 0.8223 - val_loss: 0.3657 - val_accuracy: 0.8406\n",
            "Epoch 19/75\n",
            "100/100 [==============================] - 124s 1s/step - loss: 0.3725 - accuracy: 0.8319 - val_loss: 0.3772 - val_accuracy: 0.8348\n",
            "Epoch 20/75\n",
            "100/100 [==============================] - 124s 1s/step - loss: 0.3689 - accuracy: 0.8310 - val_loss: 0.3855 - val_accuracy: 0.8237\n",
            "Epoch 21/75\n",
            "100/100 [==============================] - 125s 1s/step - loss: 0.3599 - accuracy: 0.8382 - val_loss: 0.3647 - val_accuracy: 0.8410\n",
            "Epoch 22/75\n",
            "100/100 [==============================] - 127s 1s/step - loss: 0.3615 - accuracy: 0.8397 - val_loss: 0.3588 - val_accuracy: 0.8459\n",
            "Epoch 23/75\n",
            "100/100 [==============================] - 126s 1s/step - loss: 0.3480 - accuracy: 0.8474 - val_loss: 0.3679 - val_accuracy: 0.8326\n",
            "Epoch 24/75\n",
            "100/100 [==============================] - 126s 1s/step - loss: 0.3483 - accuracy: 0.8447 - val_loss: 0.3569 - val_accuracy: 0.8464\n",
            "Epoch 25/75\n",
            "100/100 [==============================] - 125s 1s/step - loss: 0.3453 - accuracy: 0.8455 - val_loss: 0.3418 - val_accuracy: 0.8548\n",
            "Epoch 26/75\n",
            "100/100 [==============================] - 125s 1s/step - loss: 0.3482 - accuracy: 0.8453 - val_loss: 0.3422 - val_accuracy: 0.8495\n",
            "Epoch 27/75\n",
            "100/100 [==============================] - 125s 1s/step - loss: 0.3343 - accuracy: 0.8535 - val_loss: 0.3331 - val_accuracy: 0.8539\n",
            "Epoch 28/75\n",
            "100/100 [==============================] - 125s 1s/step - loss: 0.3206 - accuracy: 0.8578 - val_loss: 0.3189 - val_accuracy: 0.8681\n",
            "Epoch 29/75\n",
            "100/100 [==============================] - 125s 1s/step - loss: 0.3131 - accuracy: 0.8632 - val_loss: 0.3193 - val_accuracy: 0.8686\n",
            "Epoch 30/75\n",
            "100/100 [==============================] - 126s 1s/step - loss: 0.3093 - accuracy: 0.8665 - val_loss: 0.3283 - val_accuracy: 0.8606\n",
            "Epoch 31/75\n",
            "100/100 [==============================] - 125s 1s/step - loss: 0.2988 - accuracy: 0.8709 - val_loss: 0.3158 - val_accuracy: 0.8650\n",
            "Epoch 32/75\n",
            "100/100 [==============================] - 126s 1s/step - loss: 0.3086 - accuracy: 0.8657 - val_loss: 0.3156 - val_accuracy: 0.8606\n",
            "Epoch 33/75\n",
            "100/100 [==============================] - 125s 1s/step - loss: 0.3090 - accuracy: 0.8645 - val_loss: 0.3312 - val_accuracy: 0.8548\n",
            "Epoch 34/75\n",
            "100/100 [==============================] - 125s 1s/step - loss: 0.3052 - accuracy: 0.8673 - val_loss: 0.3224 - val_accuracy: 0.8646\n",
            "Epoch 35/75\n",
            "100/100 [==============================] - 125s 1s/step - loss: 0.2926 - accuracy: 0.8738 - val_loss: 0.3113 - val_accuracy: 0.8690\n",
            "Epoch 36/75\n",
            "100/100 [==============================] - 125s 1s/step - loss: 0.2942 - accuracy: 0.8711 - val_loss: 0.3046 - val_accuracy: 0.8694\n",
            "Epoch 37/75\n",
            "100/100 [==============================] - 125s 1s/step - loss: 0.2888 - accuracy: 0.8751 - val_loss: 0.3068 - val_accuracy: 0.8717\n",
            "Epoch 38/75\n",
            "100/100 [==============================] - 125s 1s/step - loss: 0.2793 - accuracy: 0.8820 - val_loss: 0.3149 - val_accuracy: 0.8663\n",
            "Epoch 39/75\n",
            "100/100 [==============================] - 125s 1s/step - loss: 0.2773 - accuracy: 0.8800 - val_loss: 0.3139 - val_accuracy: 0.8694\n",
            "Epoch 40/75\n",
            "100/100 [==============================] - 125s 1s/step - loss: 0.2654 - accuracy: 0.8858 - val_loss: 0.2887 - val_accuracy: 0.8850\n",
            "Epoch 41/75\n",
            "100/100 [==============================] - 125s 1s/step - loss: 0.2719 - accuracy: 0.8836 - val_loss: 0.2887 - val_accuracy: 0.8792\n",
            "Epoch 42/75\n",
            "100/100 [==============================] - 126s 1s/step - loss: 0.2681 - accuracy: 0.8841 - val_loss: 0.3016 - val_accuracy: 0.8730\n",
            "Epoch 43/75\n",
            "100/100 [==============================] - 125s 1s/step - loss: 0.2567 - accuracy: 0.8897 - val_loss: 0.3133 - val_accuracy: 0.8641\n",
            "Epoch 44/75\n",
            "100/100 [==============================] - 125s 1s/step - loss: 0.2627 - accuracy: 0.8883 - val_loss: 0.3035 - val_accuracy: 0.8752\n",
            "Epoch 45/75\n",
            "100/100 [==============================] - 125s 1s/step - loss: 0.2509 - accuracy: 0.8940 - val_loss: 0.3247 - val_accuracy: 0.8708\n",
            "Epoch 46/75\n",
            "100/100 [==============================] - 125s 1s/step - loss: 0.2425 - accuracy: 0.8990 - val_loss: 0.2859 - val_accuracy: 0.8819\n",
            "Epoch 47/75\n",
            "100/100 [==============================] - 124s 1s/step - loss: 0.2467 - accuracy: 0.8953 - val_loss: 0.3182 - val_accuracy: 0.8655\n",
            "Epoch 48/75\n",
            "100/100 [==============================] - 124s 1s/step - loss: 0.2482 - accuracy: 0.8959 - val_loss: 0.2816 - val_accuracy: 0.8814\n",
            "Epoch 49/75\n",
            "100/100 [==============================] - 125s 1s/step - loss: 0.2493 - accuracy: 0.8970 - val_loss: 0.2972 - val_accuracy: 0.8677\n",
            "Epoch 50/75\n",
            "100/100 [==============================] - 125s 1s/step - loss: 0.2342 - accuracy: 0.9016 - val_loss: 0.2890 - val_accuracy: 0.8828\n",
            "Epoch 51/75\n",
            "100/100 [==============================] - 125s 1s/step - loss: 0.2291 - accuracy: 0.9057 - val_loss: 0.2830 - val_accuracy: 0.8841\n",
            "Epoch 52/75\n",
            "100/100 [==============================] - 125s 1s/step - loss: 0.2272 - accuracy: 0.9050 - val_loss: 0.2895 - val_accuracy: 0.8854\n",
            "Epoch 53/75\n",
            "100/100 [==============================] - 125s 1s/step - loss: 0.2229 - accuracy: 0.9074 - val_loss: 0.2902 - val_accuracy: 0.8881\n",
            "Epoch 54/75\n",
            "100/100 [==============================] - 126s 1s/step - loss: 0.2267 - accuracy: 0.9093 - val_loss: 0.3016 - val_accuracy: 0.8761\n",
            "Epoch 55/75\n",
            "100/100 [==============================] - 126s 1s/step - loss: 0.2255 - accuracy: 0.9047 - val_loss: 0.2794 - val_accuracy: 0.8810\n",
            "Epoch 56/75\n",
            "100/100 [==============================] - 126s 1s/step - loss: 0.2066 - accuracy: 0.9185 - val_loss: 0.2812 - val_accuracy: 0.8788\n",
            "Epoch 57/75\n",
            "100/100 [==============================] - 126s 1s/step - loss: 0.2001 - accuracy: 0.9180 - val_loss: 0.2924 - val_accuracy: 0.8850\n",
            "Epoch 58/75\n",
            "100/100 [==============================] - 126s 1s/step - loss: 0.2060 - accuracy: 0.9147 - val_loss: 0.2755 - val_accuracy: 0.8868\n",
            "Epoch 59/75\n",
            "100/100 [==============================] - 126s 1s/step - loss: 0.2076 - accuracy: 0.9129 - val_loss: 0.3011 - val_accuracy: 0.8708\n",
            "Epoch 60/75\n",
            "100/100 [==============================] - 125s 1s/step - loss: 0.1963 - accuracy: 0.9195 - val_loss: 0.3147 - val_accuracy: 0.8650\n",
            "Epoch 61/75\n",
            "100/100 [==============================] - 125s 1s/step - loss: 0.1968 - accuracy: 0.9231 - val_loss: 0.2727 - val_accuracy: 0.8948\n",
            "Epoch 62/75\n",
            "100/100 [==============================] - 125s 1s/step - loss: 0.1886 - accuracy: 0.9224 - val_loss: 0.3118 - val_accuracy: 0.8730\n",
            "Epoch 63/75\n",
            "100/100 [==============================] - 126s 1s/step - loss: 0.2007 - accuracy: 0.9168 - val_loss: 0.2862 - val_accuracy: 0.8894\n",
            "Epoch 64/75\n",
            "100/100 [==============================] - 126s 1s/step - loss: 0.1882 - accuracy: 0.9252 - val_loss: 0.2961 - val_accuracy: 0.8810\n",
            "Epoch 65/75\n",
            "100/100 [==============================] - 126s 1s/step - loss: 0.1827 - accuracy: 0.9274 - val_loss: 0.2812 - val_accuracy: 0.8877\n",
            "Epoch 66/75\n",
            "100/100 [==============================] - 127s 1s/step - loss: 0.1864 - accuracy: 0.9249 - val_loss: 0.3020 - val_accuracy: 0.8806\n",
            "Epoch 67/75\n",
            "100/100 [==============================] - 126s 1s/step - loss: 0.1857 - accuracy: 0.9239 - val_loss: 0.2694 - val_accuracy: 0.8961\n",
            "Epoch 68/75\n",
            "100/100 [==============================] - 126s 1s/step - loss: 0.1835 - accuracy: 0.9277 - val_loss: 0.3008 - val_accuracy: 0.8823\n",
            "Epoch 69/75\n",
            "100/100 [==============================] - 126s 1s/step - loss: 0.1726 - accuracy: 0.9288 - val_loss: 0.2971 - val_accuracy: 0.8854\n",
            "Epoch 70/75\n",
            "100/100 [==============================] - 128s 1s/step - loss: 0.1685 - accuracy: 0.9329 - val_loss: 0.2649 - val_accuracy: 0.8925\n",
            "Epoch 71/75\n",
            "100/100 [==============================] - 127s 1s/step - loss: 0.1731 - accuracy: 0.9287 - val_loss: 0.3140 - val_accuracy: 0.8783\n",
            "Epoch 72/75\n",
            "100/100 [==============================] - 126s 1s/step - loss: 0.1768 - accuracy: 0.9289 - val_loss: 0.2938 - val_accuracy: 0.8837\n",
            "Epoch 73/75\n",
            "100/100 [==============================] - 126s 1s/step - loss: 0.1612 - accuracy: 0.9343 - val_loss: 0.2925 - val_accuracy: 0.8894\n",
            "Epoch 74/75\n",
            "100/100 [==============================] - 126s 1s/step - loss: 0.1648 - accuracy: 0.9342 - val_loss: 0.2841 - val_accuracy: 0.8841\n",
            "Epoch 75/75\n",
            "100/100 [==============================] - 127s 1s/step - loss: 0.1610 - accuracy: 0.9342 - val_loss: 0.2947 - val_accuracy: 0.8845\n"
          ],
          "name": "stdout"
        }
      ]
    },
    {
      "cell_type": "code",
      "metadata": {
        "id": "hIecDGu89LPp",
        "outputId": "3bd03b15-1dc3-452d-973d-2d4f5eb17921",
        "colab": {
          "base_uri": "https://localhost:8080/",
          "height": 279
        }
      },
      "source": [
        "plot_loss(history_base_model)"
      ],
      "execution_count": null,
      "outputs": [
        {
          "output_type": "display_data",
          "data": {
            "image/png": "[encoded data removed]",
            "text/plain": [
              "<Figure size 432x288 with 1 Axes>"
            ]
          },
          "metadata": {
            "tags": [],
            "needs_background": "light"
          }
        }
      ]
    },
    {
      "cell_type": "markdown",
      "metadata": {
        "id": "2nY0ZVbrfYV6"
      },
      "source": [
        "# Baseline CNN Model"
      ]
    },
    {
      "cell_type": "code",
      "metadata": {
        "id": "CWd9HgetfdTb",
        "outputId": "8ac4d7a3-ae85-4ace-9686-dbf188a143ea",
        "colab": {
          "base_uri": "https://localhost:8080/",
          "height": 323
        }
      },
      "source": [
        "from tensorflow.keras.models import Sequential\n",
        "from tensorflow.keras.layers import Conv2D, MaxPooling2D, Dense, Flatten\n",
        "from tensorflow.keras.optimizers import SGD\n",
        "\n",
        "baseline_model = Sequential()\n",
        "baseline_model.add(Conv2D(32, (3, 3), activation='relu', kernel_initializer='he_uniform', padding='same', input_shape=(200, 200, 3)))\n",
        "baseline_model.add(MaxPooling2D((2, 2)))\n",
        "\n",
        "baseline_model.add(Flatten())\n",
        "\n",
        "baseline_model.add(Dense(128, activation='relu', kernel_initializer='he_uniform'))\n",
        "baseline_model.add(Dense(1, activation='sigmoid'))\n",
        "\n",
        "opt = SGD(lr=0.001, momentum=0.9)\n",
        "\n",
        "baseline_model.compile(optimizer=opt, loss='binary_crossentropy', metrics=['accuracy'])\n",
        "\n",
        "baseline_model.summary()"
      ],
      "execution_count": null,
      "outputs": [
        {
          "output_type": "stream",
          "text": [
            "Model: \"sequential_3\"\n",
            "_________________________________________________________________\n",
            "Layer (type)                 Output Shape              Param #   \n",
            "=================================================================\n",
            "conv2d_5 (Conv2D)            (None, 200, 200, 32)      896       \n",
            "_________________________________________________________________\n",
            "max_pooling2d_5 (MaxPooling2 (None, 100, 100, 32)      0         \n",
            "_________________________________________________________________\n",
            "flatten_3 (Flatten)          (None, 320000)            0         \n",
            "_________________________________________________________________\n",
            "dense_6 (Dense)              (None, 128)               40960128  \n",
            "_________________________________________________________________\n",
            "dense_7 (Dense)              (None, 1)                 129       \n",
            "=================================================================\n",
            "Total params: 40,961,153\n",
            "Trainable params: 40,961,153\n",
            "Non-trainable params: 0\n",
            "_________________________________________________________________\n"
          ],
          "name": "stdout"
        }
      ]
    },
    {
      "cell_type": "code",
      "metadata": {
        "id": "AS39dxXMf0Ni",
        "outputId": "dea93fa7-9d62-4e6a-dceb-64fd206f808f",
        "colab": {
          "base_uri": "https://localhost:8080/",
          "height": 1000
        }
      },
      "source": [
        "history_baseline_model = baseline_model.fit_generator(train_iterator, steps_per_epoch=len(train_iterator), validation_data=test_iterator, validation_steps=len(test_iterator), epochs=75)"
      ],
      "execution_count": null,
      "outputs": [
        {
          "output_type": "stream",
          "text": [
            "Epoch 1/75\n",
            "100/100 [==============================] - 47s 465ms/step - loss: 0.7174 - accuracy: 0.5539 - val_loss: 0.6838 - val_accuracy: 0.5209\n",
            "Epoch 2/75\n",
            "100/100 [==============================] - 46s 459ms/step - loss: 0.6659 - accuracy: 0.5902 - val_loss: 0.6503 - val_accuracy: 0.6190\n",
            "Epoch 3/75\n",
            "100/100 [==============================] - 46s 457ms/step - loss: 0.6505 - accuracy: 0.6147 - val_loss: 0.6436 - val_accuracy: 0.6208\n",
            "Epoch 4/75\n",
            "100/100 [==============================] - 46s 459ms/step - loss: 0.6307 - accuracy: 0.6346 - val_loss: 0.6305 - val_accuracy: 0.6368\n",
            "Epoch 5/75\n",
            "100/100 [==============================] - 46s 457ms/step - loss: 0.6248 - accuracy: 0.6433 - val_loss: 0.6175 - val_accuracy: 0.6510\n",
            "Epoch 6/75\n",
            "100/100 [==============================] - 46s 462ms/step - loss: 0.6222 - accuracy: 0.6472 - val_loss: 0.6348 - val_accuracy: 0.6079\n",
            "Epoch 7/75\n",
            "100/100 [==============================] - 46s 461ms/step - loss: 0.6114 - accuracy: 0.6612 - val_loss: 0.6638 - val_accuracy: 0.6115\n",
            "Epoch 8/75\n",
            "100/100 [==============================] - 46s 461ms/step - loss: 0.6021 - accuracy: 0.6703 - val_loss: 0.6014 - val_accuracy: 0.6674\n",
            "Epoch 9/75\n",
            "100/100 [==============================] - 46s 460ms/step - loss: 0.6015 - accuracy: 0.6718 - val_loss: 0.6053 - val_accuracy: 0.6652\n",
            "Epoch 10/75\n",
            "100/100 [==============================] - 46s 458ms/step - loss: 0.5839 - accuracy: 0.6848 - val_loss: 0.5962 - val_accuracy: 0.6683\n",
            "Epoch 11/75\n",
            "100/100 [==============================] - 47s 466ms/step - loss: 0.5786 - accuracy: 0.6887 - val_loss: 0.6067 - val_accuracy: 0.6488\n",
            "Epoch 12/75\n",
            "100/100 [==============================] - 47s 472ms/step - loss: 0.5743 - accuracy: 0.6927 - val_loss: 0.5950 - val_accuracy: 0.6643\n",
            "Epoch 13/75\n",
            "100/100 [==============================] - 46s 465ms/step - loss: 0.5644 - accuracy: 0.7031 - val_loss: 0.6088 - val_accuracy: 0.6714\n",
            "Epoch 14/75\n",
            "100/100 [==============================] - 47s 467ms/step - loss: 0.5603 - accuracy: 0.7059 - val_loss: 0.6251 - val_accuracy: 0.6279\n",
            "Epoch 15/75\n",
            "100/100 [==============================] - 46s 463ms/step - loss: 0.5450 - accuracy: 0.7208 - val_loss: 0.5966 - val_accuracy: 0.6865\n",
            "Epoch 16/75\n",
            "100/100 [==============================] - 46s 464ms/step - loss: 0.5287 - accuracy: 0.7383 - val_loss: 0.5965 - val_accuracy: 0.6674\n",
            "Epoch 17/75\n",
            "100/100 [==============================] - 47s 470ms/step - loss: 0.5189 - accuracy: 0.7442 - val_loss: 0.5874 - val_accuracy: 0.6776\n",
            "Epoch 18/75\n",
            "100/100 [==============================] - 47s 466ms/step - loss: 0.5102 - accuracy: 0.7495 - val_loss: 0.5857 - val_accuracy: 0.6972\n",
            "Epoch 19/75\n",
            "100/100 [==============================] - 46s 461ms/step - loss: 0.4893 - accuracy: 0.7626 - val_loss: 0.6143 - val_accuracy: 0.6798\n",
            "Epoch 20/75\n",
            "100/100 [==============================] - 46s 461ms/step - loss: 0.5078 - accuracy: 0.7470 - val_loss: 0.6035 - val_accuracy: 0.6634\n",
            "Epoch 21/75\n",
            "100/100 [==============================] - 46s 459ms/step - loss: 0.4921 - accuracy: 0.7558 - val_loss: 0.5853 - val_accuracy: 0.6927\n",
            "Epoch 22/75\n",
            "100/100 [==============================] - 46s 455ms/step - loss: 0.4604 - accuracy: 0.7839 - val_loss: 0.5888 - val_accuracy: 0.6812\n",
            "Epoch 23/75\n",
            "100/100 [==============================] - 46s 459ms/step - loss: 0.4347 - accuracy: 0.8034 - val_loss: 0.5872 - val_accuracy: 0.6985\n",
            "Epoch 24/75\n",
            "100/100 [==============================] - 46s 456ms/step - loss: 0.4199 - accuracy: 0.8150 - val_loss: 0.5842 - val_accuracy: 0.6940\n",
            "Epoch 25/75\n",
            "100/100 [==============================] - 46s 457ms/step - loss: 0.4192 - accuracy: 0.8077 - val_loss: 0.5741 - val_accuracy: 0.7060\n",
            "Epoch 26/75\n",
            "100/100 [==============================] - 45s 451ms/step - loss: 0.3878 - accuracy: 0.8369 - val_loss: 0.5787 - val_accuracy: 0.7123\n",
            "Epoch 27/75\n",
            "100/100 [==============================] - 45s 451ms/step - loss: 0.3737 - accuracy: 0.8394 - val_loss: 0.5980 - val_accuracy: 0.6909\n",
            "Epoch 28/75\n",
            "100/100 [==============================] - 45s 450ms/step - loss: 0.3864 - accuracy: 0.8242 - val_loss: 0.5612 - val_accuracy: 0.7202\n",
            "Epoch 29/75\n",
            "100/100 [==============================] - 45s 447ms/step - loss: 0.3301 - accuracy: 0.8729 - val_loss: 0.6134 - val_accuracy: 0.7091\n",
            "Epoch 30/75\n",
            "100/100 [==============================] - 45s 449ms/step - loss: 0.3327 - accuracy: 0.8627 - val_loss: 0.6063 - val_accuracy: 0.7105\n",
            "Epoch 31/75\n",
            "100/100 [==============================] - 45s 454ms/step - loss: 0.2950 - accuracy: 0.8893 - val_loss: 0.5657 - val_accuracy: 0.7251\n",
            "Epoch 32/75\n",
            "100/100 [==============================] - 45s 453ms/step - loss: 0.2712 - accuracy: 0.9038 - val_loss: 0.5872 - val_accuracy: 0.7176\n",
            "Epoch 33/75\n",
            "100/100 [==============================] - 45s 452ms/step - loss: 0.2566 - accuracy: 0.9080 - val_loss: 0.5883 - val_accuracy: 0.7171\n",
            "Epoch 34/75\n",
            "100/100 [==============================] - 45s 452ms/step - loss: 0.2523 - accuracy: 0.9074 - val_loss: 0.6000 - val_accuracy: 0.7207\n",
            "Epoch 35/75\n",
            "100/100 [==============================] - 45s 450ms/step - loss: 0.2332 - accuracy: 0.9168 - val_loss: 0.6092 - val_accuracy: 0.7211\n",
            "Epoch 36/75\n",
            "100/100 [==============================] - 45s 451ms/step - loss: 0.2299 - accuracy: 0.9187 - val_loss: 0.5946 - val_accuracy: 0.7260\n",
            "Epoch 37/75\n",
            "100/100 [==============================] - 45s 452ms/step - loss: 0.1912 - accuracy: 0.9449 - val_loss: 0.6491 - val_accuracy: 0.7211\n",
            "Epoch 38/75\n",
            "100/100 [==============================] - 45s 450ms/step - loss: 0.1758 - accuracy: 0.9489 - val_loss: 0.6245 - val_accuracy: 0.7282\n",
            "Epoch 39/75\n",
            "100/100 [==============================] - 45s 450ms/step - loss: 0.1710 - accuracy: 0.9505 - val_loss: 0.6232 - val_accuracy: 0.7260\n",
            "Epoch 40/75\n",
            "100/100 [==============================] - 45s 449ms/step - loss: 0.1615 - accuracy: 0.9526 - val_loss: 0.6152 - val_accuracy: 0.7331\n",
            "Epoch 41/75\n",
            "100/100 [==============================] - 45s 450ms/step - loss: 0.1402 - accuracy: 0.9652 - val_loss: 0.6401 - val_accuracy: 0.7371\n",
            "Epoch 42/75\n",
            "100/100 [==============================] - 45s 446ms/step - loss: 0.1189 - accuracy: 0.9758 - val_loss: 0.6632 - val_accuracy: 0.7234\n",
            "Epoch 43/75\n",
            "100/100 [==============================] - 44s 444ms/step - loss: 0.1326 - accuracy: 0.9663 - val_loss: 0.6666 - val_accuracy: 0.7287\n",
            "Epoch 44/75\n",
            "100/100 [==============================] - 44s 436ms/step - loss: 0.1025 - accuracy: 0.9817 - val_loss: 0.6716 - val_accuracy: 0.7353\n",
            "Epoch 45/75\n",
            "100/100 [==============================] - 43s 429ms/step - loss: 0.1003 - accuracy: 0.9808 - val_loss: 0.6922 - val_accuracy: 0.7225\n",
            "Epoch 46/75\n",
            "100/100 [==============================] - 43s 428ms/step - loss: 0.0938 - accuracy: 0.9826 - val_loss: 0.7280 - val_accuracy: 0.7202\n",
            "Epoch 47/75\n",
            "100/100 [==============================] - 43s 426ms/step - loss: 0.0766 - accuracy: 0.9908 - val_loss: 0.7227 - val_accuracy: 0.7340\n",
            "Epoch 48/75\n",
            "100/100 [==============================] - 43s 430ms/step - loss: 0.0668 - accuracy: 0.9930 - val_loss: 0.7543 - val_accuracy: 0.7327\n",
            "Epoch 49/75\n",
            "100/100 [==============================] - 43s 425ms/step - loss: 0.0645 - accuracy: 0.9929 - val_loss: 0.7365 - val_accuracy: 0.7251\n",
            "Epoch 50/75\n",
            "100/100 [==============================] - 43s 427ms/step - loss: 0.0649 - accuracy: 0.9925 - val_loss: 0.7463 - val_accuracy: 0.7251\n",
            "Epoch 51/75\n",
            "100/100 [==============================] - 43s 427ms/step - loss: 0.0519 - accuracy: 0.9962 - val_loss: 0.7586 - val_accuracy: 0.7287\n",
            "Epoch 52/75\n",
            "100/100 [==============================] - 43s 433ms/step - loss: 0.0504 - accuracy: 0.9960 - val_loss: 0.7741 - val_accuracy: 0.7274\n",
            "Epoch 53/75\n",
            "100/100 [==============================] - 43s 429ms/step - loss: 0.0513 - accuracy: 0.9940 - val_loss: 0.8233 - val_accuracy: 0.7154\n",
            "Epoch 54/75\n",
            "100/100 [==============================] - 43s 432ms/step - loss: 0.0438 - accuracy: 0.9974 - val_loss: 0.7854 - val_accuracy: 0.7349\n",
            "Epoch 55/75\n",
            "100/100 [==============================] - 43s 431ms/step - loss: 0.0410 - accuracy: 0.9971 - val_loss: 0.8051 - val_accuracy: 0.7265\n",
            "Epoch 56/75\n",
            "100/100 [==============================] - 43s 430ms/step - loss: 0.0394 - accuracy: 0.9978 - val_loss: 0.8566 - val_accuracy: 0.7229\n",
            "Epoch 57/75\n",
            "100/100 [==============================] - 43s 428ms/step - loss: 0.0351 - accuracy: 0.9987 - val_loss: 0.8399 - val_accuracy: 0.7225\n",
            "Epoch 58/75\n",
            "100/100 [==============================] - 43s 426ms/step - loss: 0.0339 - accuracy: 0.9982 - val_loss: 0.8261 - val_accuracy: 0.7282\n",
            "Epoch 59/75\n",
            "100/100 [==============================] - 43s 430ms/step - loss: 0.0298 - accuracy: 0.9990 - val_loss: 0.8351 - val_accuracy: 0.7274\n",
            "Epoch 60/75\n",
            "100/100 [==============================] - 43s 427ms/step - loss: 0.0272 - accuracy: 0.9991 - val_loss: 0.8926 - val_accuracy: 0.7167\n",
            "Epoch 61/75\n",
            "100/100 [==============================] - 43s 426ms/step - loss: 0.0307 - accuracy: 0.9982 - val_loss: 0.8580 - val_accuracy: 0.7265\n",
            "Epoch 62/75\n",
            "100/100 [==============================] - 43s 426ms/step - loss: 0.0248 - accuracy: 0.9995 - val_loss: 0.8959 - val_accuracy: 0.7269\n",
            "Epoch 63/75\n",
            "100/100 [==============================] - 42s 425ms/step - loss: 0.0223 - accuracy: 0.9995 - val_loss: 0.8900 - val_accuracy: 0.7238\n",
            "Epoch 64/75\n",
            "100/100 [==============================] - 42s 423ms/step - loss: 0.0214 - accuracy: 0.9996 - val_loss: 0.8805 - val_accuracy: 0.7313\n",
            "Epoch 65/75\n",
            "100/100 [==============================] - 43s 425ms/step - loss: 0.0213 - accuracy: 0.9995 - val_loss: 0.8872 - val_accuracy: 0.7282\n",
            "Epoch 66/75\n",
            "100/100 [==============================] - 43s 431ms/step - loss: 0.0187 - accuracy: 0.9997 - val_loss: 0.9095 - val_accuracy: 0.7340\n",
            "Epoch 67/75\n",
            "100/100 [==============================] - 43s 427ms/step - loss: 0.0199 - accuracy: 0.9995 - val_loss: 0.8975 - val_accuracy: 0.7371\n",
            "Epoch 68/75\n",
            "100/100 [==============================] - 42s 425ms/step - loss: 0.0179 - accuracy: 0.9999 - val_loss: 0.9039 - val_accuracy: 0.7313\n",
            "Epoch 69/75\n",
            "100/100 [==============================] - 43s 430ms/step - loss: 0.0148 - accuracy: 0.9998 - val_loss: 0.9211 - val_accuracy: 0.7345\n",
            "Epoch 70/75\n",
            "100/100 [==============================] - 43s 427ms/step - loss: 0.0138 - accuracy: 0.9998 - val_loss: 0.9318 - val_accuracy: 0.7282\n",
            "Epoch 71/75\n",
            "100/100 [==============================] - 43s 427ms/step - loss: 0.0135 - accuracy: 0.9999 - val_loss: 0.9366 - val_accuracy: 0.7353\n",
            "Epoch 72/75\n",
            "100/100 [==============================] - 43s 428ms/step - loss: 0.0131 - accuracy: 0.9999 - val_loss: 0.9461 - val_accuracy: 0.7340\n",
            "Epoch 73/75\n",
            "100/100 [==============================] - 43s 430ms/step - loss: 0.0122 - accuracy: 0.9999 - val_loss: 0.9519 - val_accuracy: 0.7296\n",
            "Epoch 74/75\n",
            "100/100 [==============================] - 43s 427ms/step - loss: 0.0117 - accuracy: 1.0000 - val_loss: 0.9592 - val_accuracy: 0.7327\n",
            "Epoch 75/75\n",
            "100/100 [==============================] - 42s 425ms/step - loss: 0.0117 - accuracy: 0.9999 - val_loss: 0.9662 - val_accuracy: 0.7278\n"
          ],
          "name": "stdout"
        }
      ]
    },
    {
      "cell_type": "code",
      "metadata": {
        "id": "0eVqdO9Lf1rq",
        "outputId": "bd5980ec-135d-4731-b319-1b81c618119a",
        "colab": {
          "base_uri": "https://localhost:8080/",
          "height": 280
        }
      },
      "source": [
        "plot_loss(history_baseline_model)"
      ],
      "execution_count": null,
      "outputs": [
        {
          "output_type": "display_data",
          "data": {
            "image/png": "[encoded data removed]",
            "text/plain": [
              "<Figure size 432x288 with 1 Axes>"
            ]
          },
          "metadata": {
            "tags": [],
            "needs_background": "light"
          }
        }
      ]
    },
    {
      "cell_type": "markdown",
      "metadata": {
        "id": "J5IWotxalw9R"
      },
      "source": [
        "# Kesimpulan"
      ]
    },
    {
      "cell_type": "markdown",
      "metadata": {
        "id": "imTF702PoRSB"
      },
      "source": [
        "Dari data di atas, Deeper Layer CNN memiliki nilai validation accuracy 0.8948 pada epoch 61 dan Baseline CNN memiliki nilai validation accuracy 0.7251 pada epoch 31. Pada deeper layer CNN melakukan epoch sebanyak 75x dan mendapat hasil keakurasian yang lebih tinggi dibandingkan Baseline CNN.\n",
        "\n",
        "Hal ini menunjukan convolution layer yang lebih dalam, bisa mengambil feature yang lebih banyak lagi dari data-data hasil augmentasi. Dari hasil data yang augmentasi, kemampuan untuk melihat data yang belum pernah di lihat sebelumnya lebih baik. Kesimpulan yang didapat ialah plot epoch-loss bisa berbeda-beda tergantung dari data, hyperparameter, dan susunan layer yang digunakan. Ditentukan ideal atau tidaknya berdasarkan dari akurasi dan apakah model sudah converge.\n",
        "\n",
        "  "
      ]
    }
  ]
}